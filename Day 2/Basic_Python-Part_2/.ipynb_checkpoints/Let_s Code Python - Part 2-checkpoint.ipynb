{
 "cells": [
  {
   "cell_type": "markdown",
   "metadata": {},
   "source": [
    "![Logo Quantus](../../../images/logo-construction-small.png)\n",
    "\n",
    "# Basic Python Programming 2"
   ]
  },
  {
   "cell_type": "markdown",
   "metadata": {},
   "source": [
    "## Pengenalan Numpy"
   ]
  },
  {
   "cell_type": "markdown",
   "metadata": {},
   "source": [
    "Untuk menggunakan library ```numpy``` kita dapat memanggilnya dengan cara sebagai berikut:"
   ]
  },
  {
   "cell_type": "code",
   "execution_count": null,
   "metadata": {},
   "outputs": [],
   "source": [
    "import numpy as np"
   ]
  },
  {
   "cell_type": "markdown",
   "metadata": {},
   "source": [
    "## Array"
   ]
  },
  {
   "cell_type": "markdown",
   "metadata": {},
   "source": [
    "1-Dimensional Array (vektor)"
   ]
  },
  {
   "cell_type": "code",
   "execution_count": null,
   "metadata": {},
   "outputs": [],
   "source": [
    "vektor = np.array([1,2,3,4,5])\n",
    "vektor"
   ]
  },
  {
   "cell_type": "markdown",
   "metadata": {},
   "source": [
    "2-Dimensional Array (matriks)"
   ]
  },
  {
   "cell_type": "code",
   "execution_count": null,
   "metadata": {},
   "outputs": [],
   "source": [
    "matriks = np.array([[1,2],[3,4]])\n",
    "matriks"
   ]
  },
  {
   "cell_type": "code",
   "execution_count": null,
   "metadata": {
    "scrolled": false
   },
   "outputs": [],
   "source": [
    "real_matriks = np.mat('1 2 ; 3 4')\n",
    "real_matriks"
   ]
  },
  {
   "cell_type": "markdown",
   "metadata": {},
   "source": [
    "Cek tipe dari objek menggunkan fungsi ```type```"
   ]
  },
  {
   "cell_type": "code",
   "execution_count": null,
   "metadata": {},
   "outputs": [],
   "source": [
    "type(vektor) #Type of array"
   ]
  },
  {
   "cell_type": "code",
   "execution_count": null,
   "metadata": {},
   "outputs": [],
   "source": [
    "type(matriks)"
   ]
  },
  {
   "cell_type": "code",
   "execution_count": null,
   "metadata": {},
   "outputs": [],
   "source": [
    "type(real_matriks)"
   ]
  },
  {
   "cell_type": "markdown",
   "metadata": {},
   "source": [
    "## Numpy Array\n",
    "\n",
    "Untuk membuat array dapat menggunakan sintaks berikut:\n",
    "\n",
    "```python\n",
    "np.array(objek_list, dtype)\n",
    "```\n",
    "\n",
    "dengan:\n",
    "- objek_list: Nilai yang dipakai untuk membangun array, biasanya berupa objek list.\n",
    "- dtype: Tipe yang diberikan untuk objek array yang dibuat\n"
   ]
  },
  {
   "cell_type": "code",
   "execution_count": null,
   "metadata": {},
   "outputs": [],
   "source": [
    "vektor_list = np.array([1,2,3,4,5]) # membuat array dari list\n",
    "vektor_list"
   ]
  },
  {
   "cell_type": "code",
   "execution_count": null,
   "metadata": {},
   "outputs": [],
   "source": [
    "vektor_tuple = np.array((1,2,3,4)) # membuat array dari tuple"
   ]
  },
  {
   "cell_type": "code",
   "execution_count": null,
   "metadata": {},
   "outputs": [],
   "source": [
    "vektor_16 = np.array([1,2,3,4], dtype= np.float16) # vektor dengan tipe float 16\n",
    "vektor_16"
   ]
  },
  {
   "cell_type": "code",
   "execution_count": null,
   "metadata": {},
   "outputs": [],
   "source": [
    "vektor_multi_nilai = np.array([1.0,'Python', True])\n",
    "vektor_multi_nilai"
   ]
  },
  {
   "cell_type": "markdown",
   "metadata": {},
   "source": [
    "## Inisiasi Array\n",
    "\n",
    "Beberapa fungsi berikut dapat digunakan untuk inisiasi array"
   ]
  },
  {
   "cell_type": "markdown",
   "metadata": {},
   "source": [
    "### np.arrange()\n",
    "\n",
    "Dapat digunakan untuk membangkitkan array menggunakan barisan aritmatika.\n",
    "\n",
    "Sintaks:\n",
    "```python\n",
    "np.arange(start,stop=None, step=1, dtype=None)\n",
    "```\n",
    "\n",
    "with:\n",
    "- start: Nilai suku/elemen pertama\n",
    "- stop: batas\n",
    "- step: Nilai beda/selisih\n",
    "- dtype: Tipe array"
   ]
  },
  {
   "cell_type": "code",
   "execution_count": null,
   "metadata": {},
   "outputs": [],
   "source": [
    "np.arange(9) # membuat array dengan nilai 1 sampai 9-1"
   ]
  },
  {
   "cell_type": "code",
   "execution_count": null,
   "metadata": {},
   "outputs": [],
   "source": [
    "np.arange(1,10) # membuat array dengan nilai 1 sampai 10-1"
   ]
  },
  {
   "cell_type": "code",
   "execution_count": null,
   "metadata": {},
   "outputs": [],
   "source": [
    "np.arange(2,10,2) # membuat array mulai dari 2 sampai 10-1 dengan nilai beda 2"
   ]
  },
  {
   "cell_type": "markdown",
   "metadata": {},
   "source": [
    "### Cara Lain Untuk Membangkitkan Array\n",
    "\n",
    "- ```np.zeros()``` : membuat array berisi 0.\n",
    "- ```np.ones()``` : membuat array berisi 1.\n",
    "- ```np.linspace()``` : membuat array dengan cara membaginya menjadi interval\n",
    "- ```np.full()``` : membuat array konstanta.\n",
    "- ```np.eye()``` : membuat matriks identitas.\n",
    "- ```np.random.random()``` : membuat array dengan nilai acak.\n",
    "- ```np.empty()``` : membuat array  dengan memberikan bentuk dan tipe tanpa inisialisasi entri.\n",
    "- ```np.matrix()```: membuat matriks."
   ]
  },
  {
   "cell_type": "code",
   "execution_count": null,
   "metadata": {},
   "outputs": [],
   "source": [
    "np.zeros((2,4)) # Membuat 2D-array berisi 0 terdiri dari 2 baris dan 4 kolom"
   ]
  },
  {
   "cell_type": "code",
   "execution_count": null,
   "metadata": {},
   "outputs": [],
   "source": [
    "np.ones((3,3)) # membuat 2D-array berisi 1 terdiri dari 3 baris dan 3 kolom"
   ]
  },
  {
   "cell_type": "code",
   "execution_count": null,
   "metadata": {},
   "outputs": [],
   "source": [
    "np.linspace(0,2,9) # Membuat array dengan membuat interval antara 1 sampai 2, dibagi menjadi 9 nilai"
   ]
  },
  {
   "cell_type": "code",
   "execution_count": null,
   "metadata": {},
   "outputs": [],
   "source": [
    "np.full((3,4), 3) # Membuat array bernilai 3 terdiri dari 3 baris dan 4 kolom"
   ]
  },
  {
   "cell_type": "code",
   "execution_count": null,
   "metadata": {},
   "outputs": [],
   "source": [
    "np.eye(5) # membuat 'matriks' identitas"
   ]
  },
  {
   "cell_type": "code",
   "execution_count": null,
   "metadata": {},
   "outputs": [],
   "source": [
    "np.random.random((2,2)) # Membuat array berisi nilai random dari distribusi uniform [0,1) terdiri dari 2 baris dan 2 kolom"
   ]
  },
  {
   "cell_type": "code",
   "execution_count": null,
   "metadata": {},
   "outputs": [],
   "source": [
    "np.empty((3,2)) # Membuat array acak"
   ]
  },
  {
   "cell_type": "code",
   "execution_count": null,
   "metadata": {},
   "outputs": [],
   "source": [
    "np.matrix([(1,2,3),(4,5,6)]) # membuat matriks berukuran 2 x 3"
   ]
  },
  {
   "cell_type": "markdown",
   "metadata": {},
   "source": [
    "# Numpy Operations\n",
    "## Binary operations\n",
    "There are 6 basic binary mathematical operations for numpy array and matrix:\n",
    "- addition using ```+``` or ```np.add()```\n",
    "- substraction using ```-``` or ```np.substract()```\n",
    "- pointwise-division using ```/``` or ```np.divide()```\n",
    "- pointwise-multiplicaiton using ```*``` or ```np.multiply()```\n",
    "- dot product using ```numpyObject1.dot(numpyObject2)```"
   ]
  },
  {
   "cell_type": "code",
   "execution_count": null,
   "metadata": {},
   "outputs": [],
   "source": [
    "a = np.array((1,2,3))\n",
    "print(a)\n",
    "b = np.array((1,2,6))\n",
    "print(b)"
   ]
  },
  {
   "cell_type": "code",
   "execution_count": null,
   "metadata": {},
   "outputs": [],
   "source": [
    "# penjumlahan\n",
    "print('Menggunakan tanda +: ', a+b)\n",
    "print('Menggunakan np.add(): ', np.add(a,b))"
   ]
  },
  {
   "cell_type": "code",
   "execution_count": null,
   "metadata": {},
   "outputs": [],
   "source": [
    "# pengurangan\n",
    "print('Menggunakan tanda -: ', a-b)\n",
    "print('Menggunakan np.substract(): ', np.subtract(a,b))"
   ]
  },
  {
   "cell_type": "code",
   "execution_count": null,
   "metadata": {},
   "outputs": [],
   "source": [
    "# pembagian\n",
    "print('Menggunakan tanda /: ', a/b)\n",
    "print('Menggunakan np.divide(): ', np.divide(a,b))"
   ]
  },
  {
   "cell_type": "code",
   "execution_count": null,
   "metadata": {},
   "outputs": [],
   "source": [
    "# perkalian\n",
    "print('Menggunakan tanda *: ', a*b)\n",
    "print('Menggunakan np.multiply()', a*b)"
   ]
  },
  {
   "cell_type": "markdown",
   "metadata": {},
   "source": [
    "### Dot product formula\n",
    "Untuk $\\vec{a} = (a_1,a_2,...,a_n)$ dan $\\vec{b}=(b_1,b_2,...,b_n)$:\n",
    "$$<\\vec{a},\\vec{b}> = \\vec{a} \\bullet \\vec{b} = a_1 b_1 + a_2 b_2 + ... + a_n b_n$$"
   ]
  },
  {
   "cell_type": "code",
   "execution_count": null,
   "metadata": {},
   "outputs": [],
   "source": [
    "# dot product\n",
    "a.dot(b)"
   ]
  },
  {
   "cell_type": "code",
   "execution_count": null,
   "metadata": {},
   "outputs": [],
   "source": [
    "mat1 = np.matrix([(1,3),(4,2)])\n",
    "mat2 = np.matrix([(1,0),(0,1)])\n",
    "print(mat1)\n",
    "print(mat2)"
   ]
  },
  {
   "cell_type": "code",
   "execution_count": null,
   "metadata": {},
   "outputs": [],
   "source": [
    "print('Penjumlahan menggunakan tanda + : ')\n",
    "mat1 + mat2 # bisa juga menggunakan np.add()"
   ]
  },
  {
   "cell_type": "code",
   "execution_count": null,
   "metadata": {},
   "outputs": [],
   "source": [
    "print('Pengurangan menggunakan tanda - : ')\n",
    "mat1 - mat2 # bisa juga menggunakan np.subtract()"
   ]
  },
  {
   "cell_type": "code",
   "execution_count": null,
   "metadata": {},
   "outputs": [],
   "source": [
    "print('Pembagian Point-wise menggunakan / :')\n",
    "mat2/mat1"
   ]
  },
  {
   "cell_type": "code",
   "execution_count": null,
   "metadata": {},
   "outputs": [],
   "source": [
    "print('Perkalian matriks menggunakan * : ')\n",
    "mat1*mat2"
   ]
  },
  {
   "cell_type": "code",
   "execution_count": null,
   "metadata": {},
   "outputs": [],
   "source": [
    "print('Perkalian matriks menggunakan @')\n",
    "mat1@mat2"
   ]
  },
  {
   "cell_type": "code",
   "execution_count": null,
   "metadata": {
    "scrolled": true
   },
   "outputs": [],
   "source": [
    "print('Perkalian matriks menggunakan np.matmul()')\n",
    "np.matmul(mat1, mat2)"
   ]
  },
  {
   "cell_type": "markdown",
   "metadata": {},
   "source": [
    "## Trivia: Perbedaan Antara 2D Array dengan Matriks"
   ]
  },
  {
   "cell_type": "code",
   "execution_count": null,
   "metadata": {},
   "outputs": [],
   "source": [
    "mat1 = np.array([(1,3),(4,2)])\n",
    "mat2 = np.array([(1,0),(0,1)])\n",
    "print(mat1)\n",
    "print(mat2)"
   ]
  },
  {
   "cell_type": "code",
   "execution_count": null,
   "metadata": {},
   "outputs": [],
   "source": [
    "print('Menggunakan operator * :')\n",
    "print(mat1*mat2) # perkalian element-wise\n",
    "print('Menggunakan operator @ :')\n",
    "print(mat1@mat2) # perkalian matriks"
   ]
  },
  {
   "cell_type": "markdown",
   "metadata": {},
   "source": [
    "## Operasi Matematika Unary\n",
    "\n",
    "Terdapat 5 (atau lebih) operasi dasar unary:\n",
    "- perppangkatan: ```np.power(array1,array2)```\n",
    "- eksponensiasi: ```np.exp()```.\n",
    "- akar kuadrat: ```np.sqrt()```.\n",
    "- fungsi trigonometri: ```np.sin()```, ```np.cos()```, dan ```np.tan()```.\n",
    "- logaritma: ```np.log()```."
   ]
  },
  {
   "cell_type": "code",
   "execution_count": null,
   "metadata": {},
   "outputs": [],
   "source": [
    "print('Pangkat 3 dari ', a, ' adalah:')\n",
    "np.power(a,3) # power 3 of a"
   ]
  },
  {
   "cell_type": "code",
   "execution_count": null,
   "metadata": {},
   "outputs": [],
   "source": [
    "print('Eksponensiasi dari', a, ' adalah:') # sama halnya dengan np.power(np.e,a)\n",
    "np.exp(a) # pointwise-exponentiation"
   ]
  },
  {
   "cell_type": "code",
   "execution_count": null,
   "metadata": {},
   "outputs": [],
   "source": [
    "print('Akar kuadrat dari ', a, ' adalah:')\n",
    "np.sqrt(a) # pointwise-square-root"
   ]
  },
  {
   "cell_type": "code",
   "execution_count": null,
   "metadata": {},
   "outputs": [],
   "source": [
    "print('Nilai sin dari ', a,' adalah ',np.sin(a)) # nilai dari a dianggap sebagai radian\n",
    "print('Nilai cos dari ', a,' adalah ',np.cos(a))\n",
    "print('Nilai tan dari ', a,' adalah ',np.tan(a))"
   ]
  },
  {
   "cell_type": "code",
   "execution_count": null,
   "metadata": {},
   "outputs": [],
   "source": [
    "print('Logaritma dari ', a, ' adalah:')\n",
    "np.log(a) # By default, it's natural logarithm"
   ]
  },
  {
   "cell_type": "markdown",
   "metadata": {},
   "source": [
    "## Membandingkan Array"
   ]
  },
  {
   "cell_type": "code",
   "execution_count": null,
   "metadata": {},
   "outputs": [],
   "source": [
    "a = np.array([1,2,3])\n",
    "b = np.array([2,1,3])\n",
    "print(a)\n",
    "print(b)"
   ]
  },
  {
   "cell_type": "code",
   "execution_count": null,
   "metadata": {},
   "outputs": [],
   "source": [
    "a < 2 # perbandingan element-wise"
   ]
  },
  {
   "cell_type": "code",
   "execution_count": null,
   "metadata": {},
   "outputs": [],
   "source": [
    "a == b # komparasi element-wise"
   ]
  },
  {
   "cell_type": "code",
   "execution_count": null,
   "metadata": {},
   "outputs": [],
   "source": [
    "np.array_equal(a,b) # komparasi objek"
   ]
  },
  {
   "cell_type": "markdown",
   "metadata": {},
   "source": [
    "# Method pada Array\n",
    "\n",
    "Terdapat SANGAT BANYAK method pada Objek array pada NumPy:\n",
    "- ```.shape```: dimensi dari array/matriks\n",
    "- ```.size```: banyak elemen pada array/matriks\n",
    "- ```.sum()```: penjumlahan array-wise\n",
    "- ```.max()``` atau ```.min()```: nilai maksimum atau minimum array-wise\n",
    "- ```.std()```: Deviasi standar\n",
    "- ```.mean()```: rerata"
   ]
  },
  {
   "cell_type": "code",
   "execution_count": null,
   "metadata": {},
   "outputs": [],
   "source": [
    "a = np.array((1,2,3,4))\n",
    "b = np.array([(1,2),(3,4)])\n",
    "c = np.arange(0,8,1).reshape(2,4)"
   ]
  },
  {
   "cell_type": "code",
   "execution_count": null,
   "metadata": {},
   "outputs": [],
   "source": [
    "# ukuran/dimensi dari a,b dan c\n",
    "print('Dimensi dari a adalah: ', a.shape)\n",
    "print('Dimensi dari b adalah: ', b.shape)\n",
    "print('Dimensi dari c adalah: ', c.shape)"
   ]
  },
  {
   "cell_type": "code",
   "execution_count": null,
   "metadata": {},
   "outputs": [],
   "source": [
    "# banyak elemen dari a,b dan c\n",
    "print('banyak elemen dari a: ', a.size)\n",
    "print('banyak elemen dari b: ', b.size)\n",
    "print('banyak elemen dari c: ', c.size)"
   ]
  },
  {
   "cell_type": "code",
   "execution_count": null,
   "metadata": {},
   "outputs": [],
   "source": [
    "print('Jumlah dari semua elemen di ',a, ' adalah:', a.sum())\n",
    "print('Jumlah dari semua elemen di \\n',b, '\\n adalah:', b.sum()) \n",
    "print('Jumlah per kolom dari \\n',b, ' \\n adalah:', b.sum(axis=0))\n",
    "print('Jumlah per baris dari \\n',b, ' \\n adalah:', b.sum(axis=1))"
   ]
  },
  {
   "cell_type": "code",
   "execution_count": null,
   "metadata": {},
   "outputs": [],
   "source": [
    "print('Nilai maksimum dari ', a, ' adalah:', a.max())\n",
    "print('Nilai maksimum dari \\n', b, ' \\n adalah:', b.max())"
   ]
  },
  {
   "cell_type": "markdown",
   "metadata": {},
   "source": [
    "## Subsetting, Slicing dan Indexing"
   ]
  },
  {
   "cell_type": "code",
   "execution_count": null,
   "metadata": {},
   "outputs": [],
   "source": [
    "a = np.array([5,34,36,12,2,1])\n",
    "a"
   ]
  },
  {
   "cell_type": "code",
   "execution_count": null,
   "metadata": {},
   "outputs": [],
   "source": [
    "b = np.array([[4,5,2,1],[93,232,5,1]])\n",
    "b"
   ]
  },
  {
   "cell_type": "code",
   "execution_count": null,
   "metadata": {},
   "outputs": [],
   "source": [
    "a[2] # Get value from index 2"
   ]
  },
  {
   "cell_type": "code",
   "execution_count": null,
   "metadata": {},
   "outputs": [],
   "source": [
    "a[:2] # Get value from index 0 to 2-1"
   ]
  },
  {
   "cell_type": "code",
   "execution_count": null,
   "metadata": {},
   "outputs": [],
   "source": [
    "b[1,] # Get value from row 1"
   ]
  },
  {
   "cell_type": "code",
   "execution_count": null,
   "metadata": {},
   "outputs": [],
   "source": [
    "b[1,1] # Get value from row 1 and column 1"
   ]
  },
  {
   "cell_type": "code",
   "execution_count": null,
   "metadata": {},
   "outputs": [],
   "source": [
    "b[:,0] # Get value from column 1"
   ]
  },
  {
   "cell_type": "code",
   "execution_count": null,
   "metadata": {},
   "outputs": [],
   "source": [
    "c"
   ]
  },
  {
   "cell_type": "code",
   "execution_count": null,
   "metadata": {},
   "outputs": [],
   "source": [
    "c[c<5] # Boolean indexing"
   ]
  },
  {
   "cell_type": "markdown",
   "metadata": {},
   "source": [
    "### Manipulasi Array\n",
    "- ```.T```: transpose.\n",
    "- ```.transpose()```: transpose.\n",
    "- ```.ravel(order='C')```: flatten the array.\n",
    "- ```.reshape()```: mengubah dimensi dari array.\n",
    "- ```np.append(array1, array2)```: Menggabungkan array.\n",
    "- ```np.vstack(array1, array2)```: Menyusun array secara vertikal, row-wise.\n",
    "- ```np.hstack(array1, array2)```: Menyusun array secara horizontal, row-wise.\n",
    "- ```np.row_stack(array1,array2)```:\n",
    "- ```np.column_stack```: Menyusun array per kolom column-wise.\n",
    "- ```np.insert(array,index,value)```: Memasukkan nilai kedalam array berdasarkan indeks atau posisi.\n",
    "- ```np.delete(array,index)```: Menghapus nilai di dalam array berdasarkan indeks atau posisi"
   ]
  },
  {
   "cell_type": "code",
   "execution_count": null,
   "metadata": {},
   "outputs": [],
   "source": [
    "c = np.matrix([(1,2,3),(4,5,6),(7,8,9),(10,11,12)])\n",
    "c"
   ]
  },
  {
   "cell_type": "code",
   "execution_count": null,
   "metadata": {},
   "outputs": [],
   "source": [
    "c.T # transpose"
   ]
  },
  {
   "cell_type": "code",
   "execution_count": null,
   "metadata": {},
   "outputs": [],
   "source": [
    "c.ravel() # perataan per baris"
   ]
  },
  {
   "cell_type": "code",
   "execution_count": null,
   "metadata": {},
   "outputs": [],
   "source": [
    "c.ravel(order='F') # perataan per kolom"
   ]
  },
  {
   "cell_type": "code",
   "execution_count": null,
   "metadata": {},
   "outputs": [],
   "source": [
    "c.reshape((2,6)) # mengubah dimensi c menjadi 2 x 6"
   ]
  },
  {
   "cell_type": "code",
   "execution_count": null,
   "metadata": {},
   "outputs": [],
   "source": [
    "c.resize((2,6)) # Mengubah bentuk matriks secara permanen\n",
    "c"
   ]
  },
  {
   "cell_type": "code",
   "execution_count": null,
   "metadata": {
    "scrolled": true
   },
   "outputs": [],
   "source": [
    "d = c.flatten()\n",
    "d"
   ]
  },
  {
   "cell_type": "code",
   "execution_count": null,
   "metadata": {},
   "outputs": [],
   "source": [
    "nilai = c.flatten(order='F')\n",
    "nilai"
   ]
  },
  {
   "cell_type": "code",
   "execution_count": null,
   "metadata": {},
   "outputs": [],
   "source": [
    "print('matriks c', nilai)\n",
    "print('matriks d', d)\n",
    "print('menggabungan kedua matriks')\n",
    "np.append(d, nilai, axis=0) # Menggabungkan kedua matriks"
   ]
  },
  {
   "cell_type": "code",
   "execution_count": null,
   "metadata": {},
   "outputs": [],
   "source": [
    "print('vektor a',a)\n",
    "temp = np.array([6,7,8,9,11,11])\n",
    "print('vektor temp',temp)\n",
    "np.vstack((a,temp)) # menyusun array secara vertikal"
   ]
  },
  {
   "cell_type": "code",
   "execution_count": null,
   "metadata": {},
   "outputs": [],
   "source": [
    "np.hstack((a,temp)) # menyusun array secara horizontal."
   ]
  },
  {
   "cell_type": "code",
   "execution_count": null,
   "metadata": {},
   "outputs": [],
   "source": [
    "np.row_stack((a,temp)) # menyusun array secara vertikal"
   ]
  },
  {
   "cell_type": "code",
   "execution_count": null,
   "metadata": {},
   "outputs": [],
   "source": [
    "np.column_stack((a,temp)) # menyusun array column-wise."
   ]
  },
  {
   "cell_type": "code",
   "execution_count": null,
   "metadata": {},
   "outputs": [],
   "source": [
    "print(np.insert(a,2,10)) # Memasukkan nilai 10 ke indeks ke-2 array a.\n",
    "a"
   ]
  },
  {
   "cell_type": "code",
   "execution_count": null,
   "metadata": {},
   "outputs": [],
   "source": [
    "print('array of a: ', a)\n",
    "print(np.delete(a,3)) # menghapus nilai di index ke-3\n",
    "print(np.delete(a,(1,2))) # menghapus nilai di index ke-1 and ke-2"
   ]
  },
  {
   "cell_type": "code",
   "execution_count": null,
   "metadata": {},
   "outputs": [],
   "source": [
    "print(a)\n",
    "a.put(2,10) # Mengganti nilai berdasarkan indeks dan nilai baru yang ingin dimasukkan.\n",
    "a"
   ]
  },
  {
   "cell_type": "code",
   "execution_count": null,
   "metadata": {},
   "outputs": [],
   "source": [
    "a[2] = 3 # mengganti nilai di indeks ke-2 dengan menggunakan assignment\n",
    "a"
   ]
  },
  {
   "cell_type": "markdown",
   "metadata": {},
   "source": [
    "## Try It\n",
    "Cobalah mengganti nilai matriks di bawah ini berdasarkan baris dan kolom yang spesifik"
   ]
  },
  {
   "cell_type": "code",
   "execution_count": null,
   "metadata": {},
   "outputs": [],
   "source": [
    "c"
   ]
  },
  {
   "cell_type": "code",
   "execution_count": null,
   "metadata": {},
   "outputs": [],
   "source": [
    "# Mengganti nilai pada baris 1 dan kolom 2 dengan 99\n"
   ]
  },
  {
   "cell_type": "code",
   "execution_count": null,
   "metadata": {},
   "outputs": [],
   "source": [
    "# Mengganti nilai pada kolom 2 dengan [10,11]"
   ]
  },
  {
   "cell_type": "code",
   "execution_count": null,
   "metadata": {},
   "outputs": [],
   "source": [
    "# Mengganti setiap nilai di baris 2 dengan [2,4,6,8,10,12]"
   ]
  },
  {
   "cell_type": "markdown",
   "metadata": {},
   "source": [
    "# Numpy (Basic) I/O\n",
    "Kita dapat menggunakan NumPy untuk membaca dan menyimpan file txt dan csv.\n",
    "- ```np.savetxt(filename, array, delimiter)```: menyimpan 1 atau 2D array dengan menuliskan nama file dan jenis delimiternya.\n",
    "- ```np.loadtxt(filename, delimiter)```: membuja file txt dengan menspesifikasi nama file dan jenis delimiternya."
   ]
  },
  {
   "cell_type": "code",
   "execution_count": null,
   "metadata": {},
   "outputs": [],
   "source": [
    "# Membangun bilangan random berdasarkan distribusi normal dengan mean 0, deviasi standar 1 and ukuran 50\n",
    "temp1 = np.random.normal(loc=0,scale=1,size=50)\n",
    "temp2 = 2*temp1 + 0.5"
   ]
  },
  {
   "cell_type": "code",
   "execution_count": null,
   "metadata": {},
   "outputs": [],
   "source": [
    "dataToSave = np.column_stack((temp1,temp2))\n",
    "dataToSave"
   ]
  },
  {
   "cell_type": "code",
   "execution_count": null,
   "metadata": {},
   "outputs": [],
   "source": [
    "np.savetxt('random-data.txt', dataToSave, delimiter=',')"
   ]
  },
  {
   "cell_type": "code",
   "execution_count": null,
   "metadata": {},
   "outputs": [],
   "source": [
    "np.loadtxt('./random-data.txt', delimiter=',')"
   ]
  },
  {
   "cell_type": "code",
   "execution_count": null,
   "metadata": {},
   "outputs": [],
   "source": [
    "np.loadtxt('./Absenteeism_at_work.csv', delimiter=';') # Data ini tidak bisa di baca menggunakan NumPy"
   ]
  },
  {
   "cell_type": "code",
   "execution_count": null,
   "metadata": {},
   "outputs": [],
   "source": [
    "nilai = np.genfromtxt('./Absenteeism_at_work.csv', delimiter=';', names=True)"
   ]
  },
  {
   "cell_type": "markdown",
   "metadata": {},
   "source": [
    "Referensi:\n",
    "\n",
    "- Dokumentasi Numpy: [Dokumentasi](https://docs.scipy.org/doc/numpy-1.17.0/user/quickstart.html)\n",
    "- Cheatsheet Numpy: [Cheatsheet](http://community.datacamp.com.s3.amazonaws.com/community/production/ckeditor_assets/pictures/329/content_content_button-cheatsheet-numpy.png)"
   ]
  },
  {
   "cell_type": "markdown",
   "metadata": {},
   "source": [
    "# Menggunakan Pandas untuk Analisa Data\n",
    "\n",
    "Kita bisa menggunakan Pandas untuk analisa data layaknya menggunakan spreadsheet atau meng-*query* langsung dari database."
   ]
  },
  {
   "cell_type": "code",
   "execution_count": null,
   "metadata": {},
   "outputs": [],
   "source": [
    "import pandas as pd # load library pandas sebagai pd"
   ]
  },
  {
   "cell_type": "markdown",
   "metadata": {},
   "source": [
    "## Struktur Data Pandas\n",
    "\n",
    "Terdapat 3 struktur data pada pandas:\n",
    "\n",
    "- Series (1D): struktur data homogen dan *size-immutable*\n",
    "- DataFrame (2D): struktur data heterogen, tabular dan *size-mutable*\n",
    "- Panels (3D): struktur data dengan *size-mutable* array"
   ]
  },
  {
   "cell_type": "markdown",
   "metadata": {},
   "source": [
    "### Series"
   ]
  },
  {
   "cell_type": "code",
   "execution_count": null,
   "metadata": {},
   "outputs": [],
   "source": [
    "vektor_a = np.array(range(10))\n",
    "vektor_a"
   ]
  },
  {
   "cell_type": "code",
   "execution_count": null,
   "metadata": {
    "scrolled": true
   },
   "outputs": [],
   "source": [
    "series_a = pd.Series(vektor_a)\n",
    "series_a"
   ]
  },
  {
   "cell_type": "code",
   "execution_count": null,
   "metadata": {
    "scrolled": true
   },
   "outputs": [],
   "source": [
    "vektor_b = {'indeks_1': 1, 'indeks_2': np.array(range(9))}\n",
    "series_b = pd.Series(vektor_b)\n",
    "series_b"
   ]
  },
  {
   "cell_type": "code",
   "execution_count": null,
   "metadata": {},
   "outputs": [],
   "source": [
    "# ambil nilai series_a pada indeks ke-8\n",
    "series_a[8]"
   ]
  },
  {
   "cell_type": "code",
   "execution_count": null,
   "metadata": {},
   "outputs": [],
   "source": [
    "# ambil nilai series_b untuk indeks ke-1\n",
    "series_b[1]"
   ]
  },
  {
   "cell_type": "code",
   "execution_count": null,
   "metadata": {},
   "outputs": [],
   "source": [
    "# cek tipe data series_a\n",
    "type(series_a)"
   ]
  },
  {
   "cell_type": "code",
   "execution_count": null,
   "metadata": {},
   "outputs": [],
   "source": [
    "series_a"
   ]
  },
  {
   "cell_type": "markdown",
   "metadata": {},
   "source": [
    "### DataFrame"
   ]
  },
  {
   "cell_type": "code",
   "execution_count": null,
   "metadata": {
    "scrolled": true
   },
   "outputs": [],
   "source": [
    "# membuat dataframe dari list/array\n",
    "vektor_a = np.arange(10)\n",
    "tabel_a = pd.DataFrame(vektor_a)\n",
    "tabel_a"
   ]
  },
  {
   "cell_type": "code",
   "execution_count": null,
   "metadata": {
    "scrolled": true
   },
   "outputs": [],
   "source": [
    "# Creating a DataFrame from a list of dictionaries\n",
    "dictionary_b = [{'nilai_a':1, 'nilai_b':2, 'nilai_c':10}, {'nilai_a':10, 'nilai_b':10, 'nilai_c':20}]\n",
    "tabel_b = pd.DataFrame(dictionary_b)\n",
    "tabel_b"
   ]
  },
  {
   "cell_type": "code",
   "execution_count": null,
   "metadata": {
    "scrolled": true
   },
   "outputs": [],
   "source": [
    "dictionary_c = pd.DataFrame({\"nilai_a\": np.arange(10), \"nilai_b\": range(10)})\n",
    "tabel_c = pd.DataFrame(dictionary_c)\n",
    "tabel_c"
   ]
  },
  {
   "cell_type": "code",
   "execution_count": null,
   "metadata": {},
   "outputs": [],
   "source": [
    "# mengganti indeks\n",
    "tabel_b = pd.DataFrame(dictionary_b, index=['baris_1','baris_2'])\n",
    "tabel_b"
   ]
  },
  {
   "cell_type": "markdown",
   "metadata": {},
   "source": [
    "### Manipulasi DataFrame"
   ]
  },
  {
   "cell_type": "code",
   "execution_count": null,
   "metadata": {
    "scrolled": true
   },
   "outputs": [],
   "source": [
    "# membuat kolom baru dengan Series\n",
    "tabel_b['nilai_d'] = pd.Series([10,20], index=['baris_1','baris_2'])\n",
    "tabel_b"
   ]
  },
  {
   "cell_type": "code",
   "execution_count": null,
   "metadata": {},
   "outputs": [],
   "source": [
    "tabel_b = tabel_b.set_index(pd.Index([0,1]))\n",
    "tabel_b"
   ]
  },
  {
   "cell_type": "code",
   "execution_count": null,
   "metadata": {},
   "outputs": [],
   "source": [
    "# Membaca file csv dengan pd.read_csv(nama_file, delimiter)\n",
    "df = pd.read_csv('./Absenteeism_at_work.csv', delimiter=';')\n",
    "df"
   ]
  },
  {
   "cell_type": "code",
   "execution_count": null,
   "metadata": {
    "scrolled": true
   },
   "outputs": [],
   "source": [
    "df[['Reason for absence','Education']] # melihat data berdasarkan nama kolomnya."
   ]
  },
  {
   "cell_type": "code",
   "execution_count": null,
   "metadata": {},
   "outputs": [],
   "source": [
    "df['Height'][1] # Melihat nilai di indeks ke-1 untuk kolom Height"
   ]
  },
  {
   "cell_type": "code",
   "execution_count": null,
   "metadata": {
    "scrolled": true
   },
   "outputs": [],
   "source": [
    "df['Height'][1] = 180 # Memasukkan nilai baru ke dalam kolom Height di indeks ke-1\n",
    "df['Height'][1]"
   ]
  },
  {
   "cell_type": "code",
   "execution_count": null,
   "metadata": {
    "scrolled": true
   },
   "outputs": [],
   "source": [
    "df.loc[1,'Height'] = 178 # Memasukkan nilai pada kolom Height dan indeks ke-1\n",
    "df.loc[1,'Height']"
   ]
  },
  {
   "cell_type": "code",
   "execution_count": null,
   "metadata": {},
   "outputs": [],
   "source": [
    "df[4:10] # Select row 4 to 10-1"
   ]
  },
  {
   "cell_type": "code",
   "execution_count": null,
   "metadata": {},
   "outputs": [],
   "source": [
    "df.loc[[12]] # select row 1"
   ]
  },
  {
   "cell_type": "code",
   "execution_count": null,
   "metadata": {},
   "outputs": [],
   "source": [
    "df.loc[1:12]"
   ]
  },
  {
   "cell_type": "code",
   "execution_count": null,
   "metadata": {},
   "outputs": [],
   "source": [
    "df.loc[[2],['ID','Seasons']] # Select datum of row '1' and column 'ID'"
   ]
  },
  {
   "cell_type": "code",
   "execution_count": null,
   "metadata": {},
   "outputs": [],
   "source": [
    "df.iloc[1:4,1:3] # Selecy datum of row 1 to 4-1 and column 1 to 3-1"
   ]
  },
  {
   "cell_type": "code",
   "execution_count": null,
   "metadata": {},
   "outputs": [],
   "source": [
    "df.Age.mean() # Calling method by column name; i.e. .mean()"
   ]
  },
  {
   "cell_type": "code",
   "execution_count": null,
   "metadata": {},
   "outputs": [],
   "source": [
    "df17 = df[df['Age']>17] # Boolean indexing\n",
    "df17"
   ]
  },
  {
   "cell_type": "code",
   "execution_count": null,
   "metadata": {},
   "outputs": [],
   "source": [
    "df.head(10) # Calling the first 10 rows of data from dataset"
   ]
  },
  {
   "cell_type": "markdown",
   "metadata": {},
   "source": [
    "### Method dan Atribut untuk Objek DataFrame\n",
    "\n",
    "Berikut merupakan beberapa method dan atribute untuk objek DataFrame"
   ]
  },
  {
   "cell_type": "markdown",
   "metadata": {},
   "source": [
    "**Melihat dimensi dari objek dengan ```shape```**"
   ]
  },
  {
   "cell_type": "code",
   "execution_count": null,
   "metadata": {},
   "outputs": [],
   "source": [
    "df.shape"
   ]
  },
  {
   "cell_type": "markdown",
   "metadata": {},
   "source": [
    "**Melihat simpulan dari data dengan ```describe()```**"
   ]
  },
  {
   "cell_type": "code",
   "execution_count": null,
   "metadata": {
    "scrolled": true
   },
   "outputs": [],
   "source": [
    "df.describe()"
   ]
  },
  {
   "cell_type": "markdown",
   "metadata": {},
   "source": [
    "**Membuat box-plot dengan ```.plot.box()```**"
   ]
  },
  {
   "cell_type": "code",
   "execution_count": null,
   "metadata": {
    "scrolled": true
   },
   "outputs": [],
   "source": [
    "import matplotlib.pyplot as plt # import matplotlib\n",
    "%matplotlib inline\n",
    "df[['Age','Weight']].plot.box() # Boxplot"
   ]
  },
  {
   "cell_type": "markdown",
   "metadata": {},
   "source": [
    "**Melakukan agregasi pada data menggunakan ```agg(nama_fungsi)```**"
   ]
  },
  {
   "cell_type": "code",
   "execution_count": null,
   "metadata": {
    "scrolled": true
   },
   "outputs": [],
   "source": [
    "df[['Education','Age']].agg(np.mean)"
   ]
  },
  {
   "cell_type": "markdown",
   "metadata": {},
   "source": [
    "**Mencari nilai maksimum dengan ```max()```**"
   ]
  },
  {
   "cell_type": "code",
   "execution_count": null,
   "metadata": {},
   "outputs": [],
   "source": [
    "df.max()"
   ]
  },
  {
   "cell_type": "markdown",
   "metadata": {},
   "source": [
    "**Melakukan agregasi data dengan ```groupby```**"
   ]
  },
  {
   "cell_type": "code",
   "execution_count": null,
   "metadata": {},
   "outputs": [],
   "source": [
    "df[['Age','Education']].groupby('Education').mean()"
   ]
  },
  {
   "cell_type": "code",
   "execution_count": null,
   "metadata": {},
   "outputs": [],
   "source": [
    "df[['Weight','Height','Age']].groupby('Age').agg([np.mean,np.max])"
   ]
  },
  {
   "cell_type": "markdown",
   "metadata": {},
   "source": [
    "**Operasi Vectorized dengan apply**"
   ]
  },
  {
   "cell_type": "code",
   "execution_count": null,
   "metadata": {
    "scrolled": false
   },
   "outputs": [],
   "source": [
    "df[['Height']].apply(lambda x: x * 10)"
   ]
  },
  {
   "cell_type": "markdown",
   "metadata": {},
   "source": [
    "Referensi:\n",
    "\n",
    "- Dokumentasi Pandas: [Dokumentasi](https://pandas.pydata.org/pandas-docs/stable/getting_started/index.html)\n",
    "- Cheatsheet Pandas: [Cheatsheet](http://community.datacamp.com.s3.amazonaws.com/community/production/ckeditor_assets/pictures/175/content_button-cheatsheet2.png)"
   ]
  },
  {
   "cell_type": "markdown",
   "metadata": {},
   "source": [
    "### Bonus: Auto EDA dengan Pandas Profiling"
   ]
  },
  {
   "cell_type": "code",
   "execution_count": null,
   "metadata": {},
   "outputs": [],
   "source": [
    "!pip install pandas-profiling"
   ]
  },
  {
   "cell_type": "code",
   "execution_count": null,
   "metadata": {},
   "outputs": [],
   "source": [
    "import pandas_profiling as pp"
   ]
  },
  {
   "cell_type": "code",
   "execution_count": null,
   "metadata": {},
   "outputs": [],
   "source": [
    "pp.ProfileReport(df)"
   ]
  },
  {
   "cell_type": "markdown",
   "metadata": {},
   "source": [
    "# Matplotlib (Dasar)\n",
    "\n",
    "Matplotlib adalah *library* khusus untuk membuat plot"
   ]
  },
  {
   "cell_type": "code",
   "execution_count": null,
   "metadata": {},
   "outputs": [],
   "source": [
    "import matplotlib.pyplot as plt # import matplotlib\n",
    "%matplotlib inline\n",
    "plt.rcParams['figure.figsize'] = [10, 5]"
   ]
  },
  {
   "cell_type": "markdown",
   "metadata": {},
   "source": [
    "##  3 Langkah Dasar Pembuatan Plot\n",
    "1. Persiapkan data\n",
    "2. Buat objek plot\n",
    "3. Tunjukkan plot"
   ]
  },
  {
   "cell_type": "code",
   "execution_count": null,
   "metadata": {},
   "outputs": [],
   "source": [
    "# Prepare data\n",
    "x = np.random.random(100) # Membangun 100 nilai acak berdasarkan distribusi seragam\n",
    "y = 2*x + 0.002 + np.random.random(100) # Membangun data untuk y-axis"
   ]
  },
  {
   "cell_type": "code",
   "execution_count": null,
   "metadata": {},
   "outputs": [],
   "source": [
    "plt.plot(x,y,'o') # Inisiasi plot\n",
    "plt.xlabel('nilai x') # Label x\n",
    "plt.ylabel('nilai y') # Label y\n",
    "plt.title('Korelasi antara X dan Y') # Memberi judul\n",
    "plt.show() # Tunjukkan plot"
   ]
  },
  {
   "cell_type": "code",
   "execution_count": null,
   "metadata": {},
   "outputs": [],
   "source": [
    "plt.plot(x,y,'o', label = 'Nilai acak') # inisiasi plot\n",
    "plt.plot(x,2*x+0.5,'-',label= 'Garis fit') # Menambah plot lain\n",
    "plt.xlabel('Nilai X')\n",
    "plt.ylabel('Nilai Y')\n",
    "plt.legend() # Menambah legend\n",
    "plt.show() "
   ]
  },
  {
   "cell_type": "code",
   "execution_count": null,
   "metadata": {},
   "outputs": [],
   "source": [
    "plt.plot(x,y,'o', label = 'Nilai Acak')\n",
    "plt.plot(x,2*x+0.5,'-',label= 'Garis Fit')\n",
    "# Menambah teks pada x=0.8 dan y=0.5, berukuran 12 dan berwarna biru\n",
    "plt.text(0.8,0.5, r\"$\\beta_0 = 2$\", fontsize=14, color=\"b\")\n",
    "# Menambah teks pada x=0.8 dan y=0.3, berukuran 12 dan berwarna blue\n",
    "plt.text(0.8,0.3, r\"$\\beta_1 = 0.5$\", fontsize=14, color=\"b\")\n",
    "plt.xlabel('Nilai X')\n",
    "plt.ylabel('Nilai Y')\n",
    "plt.legend()\n",
    "plt.show()"
   ]
  },
  {
   "cell_type": "code",
   "execution_count": null,
   "metadata": {},
   "outputs": [],
   "source": [
    "plt.plot(np.sin(np.linspace(1,10,100)),'or')\n",
    "plt.show()"
   ]
  },
  {
   "cell_type": "code",
   "execution_count": null,
   "metadata": {},
   "outputs": [],
   "source": [
    "plt.bar(df.Age, df.Height) # Bar plot"
   ]
  },
  {
   "cell_type": "code",
   "execution_count": null,
   "metadata": {},
   "outputs": [],
   "source": [
    "plt.boxplot([df.Age, df.Height]) # boxplot"
   ]
  },
  {
   "cell_type": "code",
   "execution_count": null,
   "metadata": {},
   "outputs": [],
   "source": [
    "df.plot.scatter(x = 'Age', y = 'Height')"
   ]
  },
  {
   "cell_type": "code",
   "execution_count": null,
   "metadata": {},
   "outputs": [],
   "source": [
    "df[['Age']].plot.hist() # Histogram"
   ]
  },
  {
   "cell_type": "code",
   "execution_count": null,
   "metadata": {},
   "outputs": [],
   "source": [
    "df[['Age']].apply(lambda x: np.log(x)).plot.hist()"
   ]
  },
  {
   "cell_type": "code",
   "execution_count": null,
   "metadata": {},
   "outputs": [],
   "source": [
    "pd.plotting.scatter_matrix(df[['Age','Height','Weight','Body mass index']])"
   ]
  },
  {
   "cell_type": "markdown",
   "metadata": {},
   "source": [
    "Referensi:\n",
    "\n",
    "- Dokumentasi terkait visualisasi data dengan Pandas: [Referensi visualisasi data dengan Pandas](https://pandas.pydata.org/pandas-docs/stable/user_guide/visualization.html#plotting-tools)\n",
    "- Dokumentasi terkait visualisasi data dengan Matplotlib: [Referensi visualisasi data dengan Matplotlib](https://matplotlib.org/3.1.0/tutorials/index.html)\n",
    "- Cheatsheet Matplotlib: [Cheatsheet](http://community.datacamp.com.s3.amazonaws.com/community/production/ckeditor_assets/pictures/405/content_content_button-cheatsheet-matplotlib.png)"
   ]
  }
 ],
 "metadata": {
  "kernelspec": {
   "display_name": "Python 3",
   "language": "python",
   "name": "python3"
  },
  "language_info": {
   "codemirror_mode": {
    "name": "ipython",
    "version": 3
   },
   "file_extension": ".py",
   "mimetype": "text/x-python",
   "name": "python",
   "nbconvert_exporter": "python",
   "pygments_lexer": "ipython3",
   "version": "3.7.1"
  }
 },
 "nbformat": 4,
 "nbformat_minor": 2
}
