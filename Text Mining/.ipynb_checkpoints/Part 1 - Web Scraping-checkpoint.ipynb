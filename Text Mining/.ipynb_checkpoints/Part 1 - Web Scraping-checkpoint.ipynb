{
 "cells": [
  {
   "cell_type": "markdown",
   "metadata": {},
   "source": [
    "# Web Scraping\n",
    "\n",
    "\n",
    "**Defenisi**\n",
    "\n",
    "*Web scraping* adalah kegiatan ekstraksi data dari halaman situs web.\n",
    "\n",
    "## Beberapa Library yang Dibutuhkan\n",
    "\n",
    "Berikut merupakan daftar library yang akan digunakan untuk melakukan web scraping\n",
    "\n",
    "- ```request```\n",
    "- ```beautifulSoup4```\n",
    "- ```html5lib```\n",
    "\n",
    "## Instalasi Library\n",
    "\n",
    "Untuk instalasi package, kita dapat menggunakan perintah pip pada command-line sebagai berikut:\n",
    "\n",
    "```pip\n",
    "pip install requests\n",
    "pip install html5lib\n",
    "pip install beautifulSoup4\n",
    "```"
   ]
  },
  {
   "cell_type": "code",
   "execution_count": 1,
   "metadata": {},
   "outputs": [],
   "source": [
    "import html5lib"
   ]
  },
  {
   "cell_type": "markdown",
   "metadata": {},
   "source": [
    "## Struktur Halaman Web\n",
    "\n",
    "\n",
    "![Struktur Halaman HTML](./images/HTMLDOMTree.png)"
   ]
  },
  {
   "cell_type": "markdown",
   "metadata": {},
   "source": [
    "## Scraping Halaman Web\n",
    "\n",
    "**Load Library**"
   ]
  },
  {
   "cell_type": "code",
   "execution_count": 2,
   "metadata": {},
   "outputs": [],
   "source": [
    "import requests\n",
    "from bs4 import BeautifulSoup"
   ]
  },
  {
   "cell_type": "markdown",
   "metadata": {},
   "source": [
    "Selanjutnya kita akan mencoba scrape halaman https://regional.kompas.com/read/2019/10/07/12230021/fakta-terkini-ott-bupati-lampung-utara-rp-600-juta-diamankan-hingga-jadi\n"
   ]
  },
  {
   "cell_type": "code",
   "execution_count": null,
   "metadata": {},
   "outputs": [],
   "source": [
    "# buat variabel url yang menyimpan link\n",
    "url = \"https://regional.kompas.com/read/2019/10/07/12230021/fakta-terkini-ott-bupati-lampung-utara-rp-600-juta-diamankan-hingga-jadi\"\n",
    "\n",
    "# load halaman berdasarkan url\n",
    "hasil_request = requests.get(url)\n",
    "# parsing halaman web\n",
    "soup = BeautifulSoup(hasil_request.text, \"html.parser\") # Parses HTTP Response\n",
    "# Tunjukkan struktur halaman web\n",
    "print(soup.prettify())"
   ]
  },
  {
   "cell_type": "markdown",
   "metadata": {},
   "source": [
    "## Mengambil Judul dari Halaman Web Berita Kompas\n",
    "\n",
    "Untuk mengambil judul pada halaman tersebut, maka kita harus menemukan tag html nya terlebih dahulu. Hal ini dapat dilakukan dengan method ```find```"
   ]
  },
  {
   "cell_type": "code",
   "execution_count": null,
   "metadata": {},
   "outputs": [],
   "source": [
    "# cari tag title lalu ambil teks dari tag tersebut\n",
    "soup.find('title').text"
   ]
  },
  {
   "cell_type": "markdown",
   "metadata": {},
   "source": [
    "Selain sekedar menggunakan tag, kita dapat melakukan scrape berdasarkan atribut pada tag tersebut"
   ]
  },
  {
   "cell_type": "code",
   "execution_count": null,
   "metadata": {
    "scrolled": true
   },
   "outputs": [],
   "source": [
    "# ambil atribut alt dari tag img di dalam tag div dengan class 'photo'\n",
    "soup.find('div', class_='photo').find('img').attrs['alt']"
   ]
  },
  {
   "cell_type": "markdown",
   "metadata": {},
   "source": [
    "## Mengambil Paragraf Berita\n",
    "\n",
    "Untuk mengambil paragraf berita, kita akan menggunakan method ```find_all``` karena paragraf di dalam berita lebih dari 1 tag"
   ]
  },
  {
   "cell_type": "code",
   "execution_count": null,
   "metadata": {},
   "outputs": [],
   "source": [
    "# Ambil semua tag p dalam halaman html\n",
    "soup.find_all('p')"
   ]
  },
  {
   "cell_type": "markdown",
   "metadata": {},
   "source": [
    "Kita bisa melakukan indexing dari hasil diatas"
   ]
  },
  {
   "cell_type": "code",
   "execution_count": null,
   "metadata": {},
   "outputs": [],
   "source": [
    "# Ambil paragraf ke-0\n",
    "print(soup.find_all('p')[0])\n",
    "# Ambil paragraf ke-1\n",
    "print(soup.find_all('p')[1])\n",
    "# Ambil paragraf ke-2\n",
    "print(soup.find_all('p')[2])"
   ]
  },
  {
   "cell_type": "markdown",
   "metadata": {},
   "source": [
    "Seperti biasa, untuk mengambil teks pada paragraf, kita bisa menggunakan method ```text```\n"
   ]
  },
  {
   "cell_type": "code",
   "execution_count": null,
   "metadata": {},
   "outputs": [],
   "source": [
    "soup.find_all('p')[0].text"
   ]
  },
  {
   "cell_type": "markdown",
   "metadata": {},
   "source": [
    "Untuk bisa menunjukkan semua text kita dapat menggunakan iterasi"
   ]
  },
  {
   "cell_type": "code",
   "execution_count": null,
   "metadata": {},
   "outputs": [],
   "source": [
    "for hasil in soup.find_all('p'):\n",
    "    print(hasil.text)"
   ]
  },
  {
   "cell_type": "markdown",
   "metadata": {},
   "source": [
    "## Scrape Link Berita\n",
    "\n",
    "Kali ini kita akan scrape link berita dari halaman https://www.detik.com/search/searchall?query=politik&siteid=2"
   ]
  },
  {
   "cell_type": "code",
   "execution_count": null,
   "metadata": {
    "scrolled": false
   },
   "outputs": [],
   "source": [
    "url = \"https://www.detik.com/search/searchall?query=politik&siteid=2\"\n",
    "\n",
    "# load halaman berdasarkan url\n",
    "hasil_request = requests.get(url)\n",
    "# parsing halaman web\n",
    "soup = BeautifulSoup(hasil_request.text, \"html.parser\") # Parses HTTP Response\n",
    "# Tunjukkan struktur halaman web\n",
    "print(soup.prettify())"
   ]
  },
  {
   "cell_type": "markdown",
   "metadata": {},
   "source": [
    "Perhatikan bahwa setiap link artikel pada daftar terdapat di dalam tag div dengan class \"list media_rows list-berita\". Maka dari itu kita akan ekstraksi link dengan menggunakan method ```select```. Method ```select``` dapat digunakan untuk mengambil tag hirarki."
   ]
  },
  {
   "cell_type": "code",
   "execution_count": null,
   "metadata": {},
   "outputs": [],
   "source": [
    "# ambil tag div dengan class \"list media_rows list-berita\" lalu ambil tag a\n",
    "soup.select('div[class=\"list media_rows list-berita\"] a')"
   ]
  },
  {
   "cell_type": "markdown",
   "metadata": {},
   "source": [
    "Perhatikan bahwa hasil yang diperoleh berupa list, sehingga kita perlu melakukan indexing untuk mengambil atribut link ```href```:"
   ]
  },
  {
   "cell_type": "code",
   "execution_count": null,
   "metadata": {},
   "outputs": [],
   "source": [
    "# ambil tag div dengan class \"list media_rows list-berita\" lalu ambil tag a dan ambil atribut 'href'\n",
    "soup.select('div[class=\"list media_rows list-berita\"] a')[0].attrs['href']"
   ]
  },
  {
   "cell_type": "code",
   "execution_count": null,
   "metadata": {},
   "outputs": [],
   "source": [
    "# menggunakan iterasi untuk membaca atribut href\n",
    "for hasil in soup.select('div[class=\"list media_rows list-berita\"] a'):\n",
    "    print(hasil.attrs['href'])"
   ]
  },
  {
   "cell_type": "markdown",
   "metadata": {},
   "source": [
    "## Tugas\n",
    "\n"
   ]
  },
  {
   "cell_type": "markdown",
   "metadata": {},
   "source": [
    "Buat script yang fungsinya adalah sebagai berikut:\n",
    "\n",
    "1. Mengambil link dari halaman https://www.detik.com/search/searchall?query=politik dari 5 halaman pertama\n",
    "2. Dari link yang diperoleh dari (1), scrape judul dan paragraf dari berita tersebut"
   ]
  }
 ],
 "metadata": {
  "kernelspec": {
   "display_name": "Python 3",
   "language": "python",
   "name": "python3"
  },
  "language_info": {
   "codemirror_mode": {
    "name": "ipython",
    "version": 3
   },
   "file_extension": ".py",
   "mimetype": "text/x-python",
   "name": "python",
   "nbconvert_exporter": "python",
   "pygments_lexer": "ipython3",
   "version": "3.7.3"
  }
 },
 "nbformat": 4,
 "nbformat_minor": 2
}
