{
 "cells": [
  {
   "cell_type": "markdown",
   "metadata": {},
   "source": [
    "# Pengantar Machine Learning - Lebih Jauh Tentang Machine Learning\n",
    "\n",
    "![Machine Learning Meme](./images/r_1587555_kpz6c.jpg)\n",
    "\n",
    "## Definisi Machine Learning\n",
    "\n",
    "Machine Learning adalah suatu kajian algoritma dan model statistika dimana sistem komputer menggunakan model tersebut untuk menjalankan suatu tugas yang spesifik tanpa harus diprogram secara eksplisit, bergantung pada pola dan inferensi."
   ]
  },
  {
   "cell_type": "markdown",
   "metadata": {},
   "source": [
    "## Beberapa Jenis/Tipe Machine Learning dan Aplikasinya\n",
    "\n",
    "![Jenis Machine Learning](./images/1FUZS9K4JPqzfXDcC83BQTw.png)"
   ]
  },
  {
   "cell_type": "markdown",
   "metadata": {},
   "source": [
    "## Supervised Machine Learning\n",
    "\n",
    "![Supervised Machine Learning](./images/1589X2eXJJkatGRG-z-s_oA.png)"
   ]
  },
  {
   "cell_type": "markdown",
   "metadata": {},
   "source": [
    "## Unsupervised Machine Learning\n",
    "\n",
    "![Unsupervised Machine Learning](./images/How-unsupervised-machine-Learning-works.jpg)"
   ]
  },
  {
   "cell_type": "markdown",
   "metadata": {},
   "source": [
    "## (Supervised) Machine Learning Workflow\n",
    "\n",
    "![Supervised Machine Learning Workflow](./images/13Ax2wAd8U9sbZt93So0k_g.jpeg)"
   ]
  },
  {
   "cell_type": "markdown",
   "metadata": {},
   "source": [
    "## Beberapa Algoritma Machine Learning \n",
    "\n",
    "![Jenis Machine Learning](./images/MachineLearning.png)"
   ]
  },
  {
   "cell_type": "markdown",
   "metadata": {},
   "source": [
    "## Beberapa Konsep Machine Learning yang Penting\n",
    "\n",
    "### Bias Variance Tradeoff\n",
    "\n",
    "![Bias Variance Tradeoff](./images/1kISLC1Udq0m6g5kwHhMuJg@2x.png)"
   ]
  },
  {
   "cell_type": "markdown",
   "metadata": {},
   "source": [
    "### Underfitting & Overfitting\n",
    "\n",
    "![Contoh Underfitting, Balance dan Overfitting Klasifikasi](./images/1_UCd6KrmBxpzUpWt3bnoKEA.png)"
   ]
  },
  {
   "cell_type": "markdown",
   "metadata": {},
   "source": [
    "### Parametric VS Non-Parametric Model\n",
    "\n",
    "![Parametric VS Non Parametric](./images/Parametric-vs-Non-Parametric-model-Artificial-Intelligence-Interview-Questions-Edureka.png)"
   ]
  },
  {
   "cell_type": "markdown",
   "metadata": {},
   "source": [
    "## Scikit-Learn\n",
    "\n",
    "![Scikit-Learn Logo](./images/1200px-Scikit_learn_logo_small.svg.png)\n",
    "\n",
    "Scikit-Learn adalah salah satu framework machine learning untuk bahasa pemrograman Python."
   ]
  },
  {
   "cell_type": "markdown",
   "metadata": {},
   "source": [
    "### Pilihan Model Machine Learning Pada Scikit-Learn\n",
    "\n",
    "![Scikit-Learn ML Map](./images/ml_map.png)"
   ]
  },
  {
   "cell_type": "markdown",
   "metadata": {},
   "source": [
    "Cara melakukan instalasi Scikit-Learn\n",
    "\n",
    "- Melalui anaconda\n",
    "\n",
    "```bash\n",
    "conda install scikit-learn \n",
    "```\n",
    "\n",
    "- Melalui Pip\n",
    "\n",
    "```bash\n",
    "pip install -U scikit-learn\n",
    "```"
   ]
  }
 ],
 "metadata": {
  "kernelspec": {
   "display_name": "Python 3",
   "language": "python",
   "name": "python3"
  },
  "language_info": {
   "codemirror_mode": {
    "name": "ipython",
    "version": 3
   },
   "file_extension": ".py",
   "mimetype": "text/x-python",
   "name": "python",
   "nbconvert_exporter": "python",
   "pygments_lexer": "ipython3",
   "version": "3.7.1"
  }
 },
 "nbformat": 4,
 "nbformat_minor": 2
}
