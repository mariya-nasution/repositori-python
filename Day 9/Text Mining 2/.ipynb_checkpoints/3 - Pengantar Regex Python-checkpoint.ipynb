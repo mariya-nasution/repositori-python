{
 "cells": [
  {
   "cell_type": "markdown",
   "metadata": {},
   "source": [
    "# Pengantar Regex Python\n",
    "\n",
    "Regular Expression adalah metode pengkaitan pola teks dengan menggunakan sintaks tertentu. Biasanya Regex digunakan untuk melakukan ektraksi informasi pada sebuah teks maupun sebagai sistem validasi, misalnya password.\n",
    "\n",
    "Untuk bisa melakukan operasi regex, kita dapat menggunakan modul ```re``` pada python."
   ]
  },
  {
   "cell_type": "code",
   "execution_count": 1,
   "metadata": {},
   "outputs": [],
   "source": [
    "# load library\n",
    "import re"
   ]
  },
  {
   "cell_type": "code",
   "execution_count": 2,
   "metadata": {},
   "outputs": [],
   "source": [
    "# teks contoh\n",
    "teks = \"Menteri Pendidikan dan Kebudayaan (Mendikbud) Nadiem Makarim mengungkapkan alasan yang melatarbelakangi rencana penghapusan ujian nasional\""
   ]
  },
  {
   "cell_type": "markdown",
   "metadata": {},
   "source": [
    "## Pola Penting pada Teks\n",
    "\n",
    "Berikut adalah daftar pola yang biasanya dipakai dalam regex:\n",
    "\n",
    "- ^ mencocokkan pola awal dari string.\n",
    "- $ mencocokkan pola akhir dari string.\n",
    "- \\b mencocokkan semua pola kata.\n",
    "- \\d mencocokkan semua pola numerik.\n",
    "- \\D mencocokkan semua pola non-numerik.\n",
    "- (x|y|z)  mencocokkan pola x, y atau z.\n",
    "- x? mencocokkan karakter x 0 atau 1 kali.\n",
    "- x* mencocokkan x 0 kali atau lebih.\n",
    "- x+ mencocokkan x 1 kali or lebih.\n",
    "- x{m,n} mencocokkan karakter x sebanyak m kali, tidak lebih dari n kali."
   ]
  },
  {
   "cell_type": "markdown",
   "metadata": {},
   "source": [
    "# Pencarian Pola pada Teks\n",
    "\n",
    "Untuk mencari pola pada teks kita dapat menggunakan method ```.search```."
   ]
  },
  {
   "cell_type": "code",
   "execution_count": 3,
   "metadata": {},
   "outputs": [
    {
     "data": {
      "text/plain": [
       "<re.Match object; span=(0, 7), match='Menteri'>"
      ]
     },
     "execution_count": 3,
     "metadata": {},
     "output_type": "execute_result"
    }
   ],
   "source": [
    "# mencari kata menteri pada teks\n",
    "re.search(pattern=\"Menteri\", string=teks)"
   ]
  },
  {
   "cell_type": "code",
   "execution_count": 4,
   "metadata": {},
   "outputs": [
    {
     "data": {
      "text/plain": [
       "<re.Match object; span=(11, 16), match='didik'>"
      ]
     },
     "execution_count": 4,
     "metadata": {},
     "output_type": "execute_result"
    }
   ],
   "source": [
    "# mencari kata didik pada teks\n",
    "re.search('didik', teks)"
   ]
  },
  {
   "cell_type": "code",
   "execution_count": 5,
   "metadata": {},
   "outputs": [],
   "source": [
    "# mencari kata mobil pada teks\n",
    "re.search('mobil', teks)"
   ]
  },
  {
   "cell_type": "markdown",
   "metadata": {},
   "source": [
    "Kita dapat menggunakan method ini dalam control-flow seperti berikut:\n"
   ]
  },
  {
   "cell_type": "code",
   "execution_count": 6,
   "metadata": {},
   "outputs": [
    {
     "name": "stdout",
     "output_type": "stream",
     "text": [
      "Mencari kata  Menteri\n",
      "Kata  Menteri  ditemukan. \n",
      "\n",
      "Mencari kata  didik\n",
      "Kata  didik  ditemukan. \n",
      "\n",
      "Mencari kata  mobil\n",
      "Kata  mobil  tidak ditemukan. \n",
      "\n"
     ]
    }
   ],
   "source": [
    "pola = ['Menteri', 'didik', 'mobil']\n",
    "\n",
    "for kata in pola:\n",
    "    print('Mencari kata ', kata)\n",
    "    if re.search(kata, teks):\n",
    "        print(\"Kata \", kata, \" ditemukan. \\n\")\n",
    "    else:\n",
    "        print(\"Kata \", kata, \" tidak ditemukan. \\n\")"
   ]
  },
  {
   "cell_type": "markdown",
   "metadata": {},
   "source": [
    "Kita juga dapat melakukan assignment sehingga menghasilkan objek ```Match```"
   ]
  },
  {
   "cell_type": "code",
   "execution_count": 7,
   "metadata": {},
   "outputs": [
    {
     "data": {
      "text/plain": [
       "re.Match"
      ]
     },
     "execution_count": 7,
     "metadata": {},
     "output_type": "execute_result"
    }
   ],
   "source": [
    "pencarian = re.search('didik', teks)\n",
    "\n",
    "type(pencarian)"
   ]
  },
  {
   "cell_type": "code",
   "execution_count": 8,
   "metadata": {
    "scrolled": false
   },
   "outputs": [
    {
     "data": {
      "text/plain": [
       "['__class__',\n",
       " '__copy__',\n",
       " '__deepcopy__',\n",
       " '__delattr__',\n",
       " '__dir__',\n",
       " '__doc__',\n",
       " '__eq__',\n",
       " '__format__',\n",
       " '__ge__',\n",
       " '__getattribute__',\n",
       " '__getitem__',\n",
       " '__gt__',\n",
       " '__hash__',\n",
       " '__init__',\n",
       " '__init_subclass__',\n",
       " '__le__',\n",
       " '__lt__',\n",
       " '__ne__',\n",
       " '__new__',\n",
       " '__reduce__',\n",
       " '__reduce_ex__',\n",
       " '__repr__',\n",
       " '__setattr__',\n",
       " '__sizeof__',\n",
       " '__str__',\n",
       " '__subclasshook__',\n",
       " 'end',\n",
       " 'endpos',\n",
       " 'expand',\n",
       " 'group',\n",
       " 'groupdict',\n",
       " 'groups',\n",
       " 'lastgroup',\n",
       " 'lastindex',\n",
       " 'pos',\n",
       " 're',\n",
       " 'regs',\n",
       " 'span',\n",
       " 'start',\n",
       " 'string']"
      ]
     },
     "execution_count": 8,
     "metadata": {},
     "output_type": "execute_result"
    }
   ],
   "source": [
    "# beberapa method atau atribut pada objek Match\n",
    "dir(pencarian)"
   ]
  },
  {
   "cell_type": "markdown",
   "metadata": {},
   "source": [
    "## Splitting Teks dengan Pola Tertentu\n",
    "\n",
    "Kita dapat melakukan splitting pada teks dengan menggunakan method ```split``` pada ```re```."
   ]
  },
  {
   "cell_type": "code",
   "execution_count": 11,
   "metadata": {},
   "outputs": [
    {
     "data": {
      "text/plain": [
       "['hadimaster65555', 'gmail.com']"
      ]
     },
     "execution_count": 11,
     "metadata": {},
     "output_type": "execute_result"
    }
   ],
   "source": [
    "teks = \"hadimaster65555@gmail.com\"\n",
    "\n",
    "re.split(\"@\", teks)"
   ]
  },
  {
   "cell_type": "markdown",
   "metadata": {},
   "source": [
    "## Melakukan Subtitusi pada Teks\n",
    "\n",
    "Kita dapat melakukan subtitusi atau pergantian pada pola tertentu dengan meggunakan method ```sub```."
   ]
  },
  {
   "cell_type": "code",
   "execution_count": 12,
   "metadata": {},
   "outputs": [
    {
     "data": {
      "text/plain": [
       "'hadimaster65555 gmail.com'"
      ]
     },
     "execution_count": 12,
     "metadata": {},
     "output_type": "execute_result"
    }
   ],
   "source": [
    "re.sub(\"@\", \" \", teks)"
   ]
  },
  {
   "cell_type": "code",
   "execution_count": 19,
   "metadata": {},
   "outputs": [],
   "source": [
    "str1 = 'purple alice@google.com, blah monkey bob@abc.com blah dishwasher'\n",
    "\n",
    "## Here re.findall() returns a list of all the found email strings\n",
    "emails = re.findall('[w.-]+@[w.-]+', str1) ## ['alice@google.com', 'bob@abc.com']\n",
    "  \n",
    "for email in emails:\n",
    "    # do something with each found email string\n",
    "    print(email)"
   ]
  },
  {
   "cell_type": "code",
   "execution_count": 20,
   "metadata": {},
   "outputs": [
    {
     "data": {
      "text/plain": [
       "[]"
      ]
     },
     "execution_count": 20,
     "metadata": {},
     "output_type": "execute_result"
    }
   ],
   "source": [
    "emails"
   ]
  },
  {
   "cell_type": "code",
   "execution_count": 26,
   "metadata": {},
   "outputs": [
    {
     "name": "stdout",
     "output_type": "stream",
     "text": [
      "matchObj.group() :  Cats are smarter than dogs. Bebs are fatter than beb.\n",
      "matchObj.group(1) :  Cats are smarter than dogs. Bebs\n",
      "matchObj.group(2) :  than\n"
     ]
    }
   ],
   "source": [
    "line = \"Cats are smarter than dogs. Bebs are fatter than beb.\"\n",
    "\n",
    "matchObj = re.match( r'(.*) are fatter (.*?) .*', line, re.M | re.I)\n",
    "\n",
    "if matchObj:\n",
    "    print(\"matchObj.group() : \", matchObj.group())\n",
    "    print(\"matchObj.group(1) : \", matchObj.group(1))\n",
    "    print(\"matchObj.group(2) : \", matchObj.group(2))\n",
    "else:\n",
    "    print(\"No match!!\")"
   ]
  },
  {
   "cell_type": "code",
   "execution_count": null,
   "metadata": {},
   "outputs": [],
   "source": []
  }
 ],
 "metadata": {
  "kernelspec": {
   "display_name": "Python 3",
   "language": "python",
   "name": "python3"
  },
  "language_info": {
   "codemirror_mode": {
    "name": "ipython",
    "version": 3
   },
   "file_extension": ".py",
   "mimetype": "text/x-python",
   "name": "python",
   "nbconvert_exporter": "python",
   "pygments_lexer": "ipython3",
   "version": "3.7.3"
  }
 },
 "nbformat": 4,
 "nbformat_minor": 2
}
