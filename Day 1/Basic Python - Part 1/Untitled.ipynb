{
 "cells": [
  {
   "cell_type": "code",
   "execution_count": null,
   "metadata": {},
   "outputs": [],
   "source": [
    "def korelasi_pearson(x=[], y=[]):\n",
    "    N = len(x)\n",
    "    if N != len(y):\n",
    "        print(\"error, panjang vektor tidak sama\")\n",
    "        return\n",
    "    # Hitung rata2\n",
    "    sx = 0.0\n",
    "    sy = 0.0\n",
    "    for i in range(N):\n",
    "        sx = sx + x[i]\n",
    "        sy = sy + y[i]\n",
    "    xbar = sx/N\n",
    "    ybar = sy/N\n",
    "    #\n",
    "    A = 0.0\n",
    "    B1 = 0.0\n",
    "    B2 = 0.0\n",
    "    for i in range(N):\n",
    "        dx = x[i] - xbar\n",
    "        dy = y[i] - ybar\n",
    "        A = A + dx*dy\n",
    "        B1 = B1 + dx**2\n",
    "        B2 = B2 + dy**2\n",
    "    rxy = A/(B1**0.5 * B2**0.5)\n",
    "    return rxy\n",
    "        "
   ]
  }
 ],
 "metadata": {
  "kernelspec": {
   "display_name": "Python 3",
   "language": "python",
   "name": "python3"
  }
 },
 "nbformat": 4,
 "nbformat_minor": 2
}
