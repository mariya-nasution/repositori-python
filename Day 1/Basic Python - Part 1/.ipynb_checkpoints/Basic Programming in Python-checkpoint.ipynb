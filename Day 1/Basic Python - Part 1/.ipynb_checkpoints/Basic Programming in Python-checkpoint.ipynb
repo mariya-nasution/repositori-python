{
 "cells": [
  {
   "cell_type": "markdown",
   "metadata": {},
   "source": [
    "# Pemrograman Dasar Menggunakan Python"
   ]
  },
  {
   "cell_type": "markdown",
   "metadata": {},
   "source": [
    "## Variabel dan Operasi Aritmatika\n",
    "\n",
    "Untuk membuat variabel, di Python, kita tidak perlu memberikan tipe datanya terlebih dahulu. Python akan secara otomatis 'menebak' tipe data dari nilai yang diterima (*assigned*) oleh variabel."
   ]
  }
 ],
 "metadata": {
  "kernelspec": {
   "display_name": "Python 3",
   "language": "python",
   "name": "python3"
  },
  "language_info": {
   "codemirror_mode": {
    "name": "ipython",
    "version": 3
   },
   "file_extension": ".py",
   "mimetype": "text/x-python",
   "name": "python",
   "nbconvert_exporter": "python",
   "pygments_lexer": "ipython3",
   "version": "3.7.1"
  }
 },
 "nbformat": 4,
 "nbformat_minor": 2
}
